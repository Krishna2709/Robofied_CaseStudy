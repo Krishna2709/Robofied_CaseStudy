{
  "nbformat": 4,
  "nbformat_minor": 0,
  "metadata": {
    "colab": {
      "name": "SimpleCNN-Keras-implementation.ipynb",
      "provenance": []
    },
    "kernelspec": {
      "name": "python3",
      "display_name": "Python 3"
    }
  },
  "cells": [
    {
      "cell_type": "markdown",
      "metadata": {
        "id": "eBkQuHQDiX4u"
      },
      "source": [
        "# Simple Convolutional Neural Network implementation with Keras\n"
      ]
    },
    {
      "cell_type": "markdown",
      "metadata": {
        "id": "31K7W4zeifk9"
      },
      "source": [
        "### THE MNIST database of handwritten digits <br>\n",
        "##### The MNIST database (Modified National Institute of Standards and Technology database) is a large database of handwritten digits that is commonly used for training various image processing systems. The database is also widely used for training and testing in the field of machine learning.[3][4] It was created by \"re-mixing\" the samples from NIST's original datasets.\n",
        "Source: http://yann.lecun.com/exdb/mnist/"
      ]
    },
    {
      "cell_type": "markdown",
      "metadata": {
        "id": "9hrFPGBYil-V"
      },
      "source": [
        "### 1. Import the required libraries"
      ]
    },
    {
      "cell_type": "code",
      "metadata": {
        "id": "t8PhKXnfiM6i"
      },
      "source": [
        "# Importing Libraries\n",
        "import numpy as np\n",
        "import matplotlib.pyplot as plt\n",
        "%matplotlib inline\n",
        "\n",
        "from keras.datasets import mnist # mnist dataset from keras\n",
        "from keras.models import Sequential # to define a model\n",
        "from keras.layers import Dense, Input, Conv2D, MaxPooling2D, Dropout, Flatten \n",
        "from keras.utils import np_utils # to preprocess the data"
      ],
      "execution_count": 1,
      "outputs": []
    },
    {
      "cell_type": "markdown",
      "metadata": {
        "id": "NJxWzYFgjdJC"
      },
      "source": [
        "## 2. Load the MNIST dataset"
      ]
    },
    {
      "cell_type": "code",
      "metadata": {
        "id": "k_oyX-AzjWzR",
        "outputId": "fbcee359-3d38-4c18-8e8a-a18d9bf0cfd1",
        "colab": {
          "base_uri": "https://localhost:8080/",
          "height": 877
        }
      },
      "source": [
        "# the data, split between train and test sets\n",
        "(x_train, y_train), (x_test, y_test) = mnist.load_data()\n",
        "\n",
        "# Shape of the data\n",
        "print('X_train shape: ', x_train.shape)\n",
        "print('Y_train shape: ', y_train.shape)\n",
        "print('X_test shape: ', x_test.shape)\n",
        "print('Y_test shape: ', y_test.shape)\n",
        "\n",
        "# visualizin the MNIST data\n",
        "# plot first few images\n",
        "for i in range(3):\n",
        "    image = x_train[i]\n",
        "    label = y_train[i]\n",
        "    plt.title(\"Training data %d, Label: %d\"%(i, label))\n",
        "    plt.imshow(image, cmap='gray_r')\n",
        "    plt.show()\n",
        "    \n",
        "# show the figure\n",
        "plt.show() "
      ],
      "execution_count": 2,
      "outputs": [
        {
          "output_type": "stream",
          "text": [
            "X_train shape:  (60000, 28, 28)\n",
            "Y_train shape:  (60000,)\n",
            "X_test shape:  (10000, 28, 28)\n",
            "Y_test shape:  (10000,)\n"
          ],
          "name": "stdout"
        },
        {
          "output_type": "display_data",
          "data": {
            "image/png": "[encoded data removed]",
            "text/plain": [
              "<Figure size 432x288 with 1 Axes>"
            ]
          },
          "metadata": {
            "tags": [],
            "needs_background": "light"
          }
        },
        {
          "output_type": "display_data",
          "data": {
            "image/png": "[encoded data removed]",
            "text/plain": [
              "<Figure size 432x288 with 1 Axes>"
            ]
          },
          "metadata": {
            "tags": [],
            "needs_background": "light"
          }
        },
        {
          "output_type": "display_data",
          "data": {
            "image/png": "[encoded data removed]",
            "text/plain": [
              "<Figure size 432x288 with 1 Axes>"
            ]
          },
          "metadata": {
            "tags": [],
            "needs_background": "light"
          }
        }
      ]
    },
    {
      "cell_type": "markdown",
      "metadata": {
        "id": "xs_gsU15jrJO"
      },
      "source": [
        "## 3. Data Preprocessing - reshaping and rescaling."
      ]
    },
    {
      "cell_type": "code",
      "metadata": {
        "id": "VWJAla7mjhBE",
        "outputId": "16a40422-f0c4-4454-a3c6-3ab1b750d716",
        "colab": {
          "base_uri": "https://localhost:8080/"
        }
      },
      "source": [
        "# Model / data parameters\n",
        "num_classes = 10\n",
        "input_shape = (28, 28, 1)\n",
        "\n",
        "x_train_fmt = x_train.astype('float32')\n",
        "x_test_fmt = x_test.astype('float32')\n",
        "\n",
        "# Rescaling\n",
        "x_train_fmt /= 255\n",
        "x_test_fmt /= 255\n",
        "\n",
        "# Make sure images have shape (28, 28, 1)\n",
        "x_train_fmt = np.expand_dims(x_train_fmt, -1)\n",
        "x_test_fmt = np.expand_dims(x_test_fmt, -1)\n",
        "\n",
        "print(\"Training matrix shape: \", x_train_fmt.shape)\n",
        "print(\"Testing matrix shape: \", x_test_fmt.shape)"
      ],
      "execution_count": 3,
      "outputs": [
        {
          "output_type": "stream",
          "text": [
            "Training matrix shape:  (60000, 28, 28, 1)\n",
            "Testing matrix shape:  (10000, 28, 28, 1)\n"
          ],
          "name": "stdout"
        }
      ]
    },
    {
      "cell_type": "markdown",
      "metadata": {
        "id": "71ugQF7cj0tS"
      },
      "source": [
        "#### Converting the target values into categorical values"
      ]
    },
    {
      "cell_type": "code",
      "metadata": {
        "id": "H_rYP0isjtda",
        "outputId": "ed3c391d-8819-43ac-81a4-e2e7677e5240",
        "colab": {
          "base_uri": "https://localhost:8080/"
        }
      },
      "source": [
        "# One Hot Encoding of labels\n",
        "print(\"Shape of y_train before encoding: \", y_train.shape)\n",
        "y_train_fmt = np_utils.to_categorical(y_train, num_classes)\n",
        "y_test_fmt = np_utils.to_categorical(y_test, num_classes)\n",
        "print(\"Shape of y_train after One Hot encoding: \", y_train_fmt.shape)"
      ],
      "execution_count": 4,
      "outputs": [
        {
          "output_type": "stream",
          "text": [
            "Shape of y_train before encoding:  (60000,)\n",
            "Shape of y_train after One Hot encoding:  (60000, 10)\n"
          ],
          "name": "stdout"
        }
      ]
    },
    {
      "cell_type": "markdown",
      "metadata": {
        "id": "23OEBQWvj7U9"
      },
      "source": [
        "## 4. Build and train the model"
      ]
    },
    {
      "cell_type": "code",
      "metadata": {
        "id": "VVuGZy_cjwIK"
      },
      "source": [
        "# Building the model\n",
        "def build_model():\n",
        "    model = Sequential()\n",
        "    # Convolution layer 1\n",
        "    model.add(Conv2D(32, kernel_size =(5, 5), activation ='relu', input_shape=input_shape)) \n",
        "    # Convolution layer 2\n",
        "    model.add(Conv2D(64, (5, 5), activation ='relu')) \n",
        "    # Max pooling layer\n",
        "    model.add(MaxPooling2D(pool_size =(2, 2))) \n",
        "    # Convolution layer 3\n",
        "    model.add(Conv2D(32, kernel_size =(3, 3), activation ='relu')) \n",
        "    # Convolution layer 4\n",
        "    model.add(Conv2D(64, (3, 3), activation ='relu')) \n",
        "    # Max pooling layer\n",
        "    model.add(MaxPooling2D(pool_size =(2, 2))) \n",
        "    model.add(Flatten()) \n",
        "    # Fully Connected layers\n",
        "    model.add(Dense(512, activation ='relu')) \n",
        "    model.add(Dropout(0.5))\n",
        "    model.add(Dense(128, activation ='relu')) \n",
        "    # Output layer\n",
        "    model.add(Dense(num_classes, activation ='softmax')) \n",
        "    return model\n",
        "\n",
        "  \n",
        "model = build_model()"
      ],
      "execution_count": 5,
      "outputs": []
    },
    {
      "cell_type": "code",
      "metadata": {
        "id": "r5gRpZo1nfS0",
        "outputId": "937819b5-6af7-4986-c277-bac21003e43b",
        "colab": {
          "base_uri": "https://localhost:8080/"
        }
      },
      "source": [
        "# Model architecture\n",
        "model.summary()"
      ],
      "execution_count": 6,
      "outputs": [
        {
          "output_type": "stream",
          "text": [
            "Model: \"sequential\"\n",
            "_________________________________________________________________\n",
            "Layer (type)                 Output Shape              Param #   \n",
            "=================================================================\n",
            "conv2d (Conv2D)              (None, 24, 24, 32)        832       \n",
            "_________________________________________________________________\n",
            "conv2d_1 (Conv2D)            (None, 20, 20, 64)        51264     \n",
            "_________________________________________________________________\n",
            "max_pooling2d (MaxPooling2D) (None, 10, 10, 64)        0         \n",
            "_________________________________________________________________\n",
            "conv2d_2 (Conv2D)            (None, 8, 8, 32)          18464     \n",
            "_________________________________________________________________\n",
            "conv2d_3 (Conv2D)            (None, 6, 6, 64)          18496     \n",
            "_________________________________________________________________\n",
            "max_pooling2d_1 (MaxPooling2 (None, 3, 3, 64)          0         \n",
            "_________________________________________________________________\n",
            "flatten (Flatten)            (None, 576)               0         \n",
            "_________________________________________________________________\n",
            "dense (Dense)                (None, 512)               295424    \n",
            "_________________________________________________________________\n",
            "dropout (Dropout)            (None, 512)               0         \n",
            "_________________________________________________________________\n",
            "dense_1 (Dense)              (None, 128)               65664     \n",
            "_________________________________________________________________\n",
            "dense_2 (Dense)              (None, 10)                1290      \n",
            "=================================================================\n",
            "Total params: 451,434\n",
            "Trainable params: 451,434\n",
            "Non-trainable params: 0\n",
            "_________________________________________________________________\n"
          ],
          "name": "stdout"
        }
      ]
    },
    {
      "cell_type": "code",
      "metadata": {
        "id": "GP6d4BYVn257",
        "outputId": "92ad7457-5517-4e6b-cd4f-32abfe967076",
        "colab": {
          "base_uri": "https://localhost:8080/"
        }
      },
      "source": [
        "# Compiling the model\n",
        "model.compile(optimizer='rmsprop', \n",
        "              loss='categorical_crossentropy',\n",
        "             metrics=['accuracy'])\n",
        "\n",
        "# Training the model\n",
        "history = model.fit(x_train_fmt, y_train_fmt,\n",
        "         batch_size=128,\n",
        "         epochs=5,\n",
        "         verbose=1)"
      ],
      "execution_count": 7,
      "outputs": [
        {
          "output_type": "stream",
          "text": [
            "Epoch 1/5\n",
            "469/469 [==============================] - 230s 490ms/step - loss: 0.2194 - accuracy: 0.9301\n",
            "Epoch 2/5\n",
            "469/469 [==============================] - 230s 491ms/step - loss: 0.0558 - accuracy: 0.9832\n",
            "Epoch 3/5\n",
            "469/469 [==============================] - 230s 490ms/step - loss: 0.0409 - accuracy: 0.9882\n",
            "Epoch 4/5\n",
            "469/469 [==============================] - 229s 488ms/step - loss: 0.0332 - accuracy: 0.9904\n",
            "Epoch 5/5\n",
            "469/469 [==============================] - 229s 488ms/step - loss: 0.0270 - accuracy: 0.9920\n"
          ],
          "name": "stdout"
        }
      ]
    },
    {
      "cell_type": "markdown",
      "metadata": {
        "id": "Y-G03TrgoH3F"
      },
      "source": [
        "## 5. Model metrics"
      ]
    },
    {
      "cell_type": "code",
      "metadata": {
        "id": "fNEujloVoQWZ",
        "outputId": "a253cef3-c579-47aa-bbfe-6f31f82b8243",
        "colab": {
          "base_uri": "https://localhost:8080/"
        }
      },
      "source": [
        "# Evaluating the model\n",
        "score = model.evaluate(x_test_fmt, y_test_fmt, verbose=0)\n",
        "print(\"Test loss:\", score[0])\n",
        "print(\"Test accuracy:\", score[1])"
      ],
      "execution_count": 8,
      "outputs": [
        {
          "output_type": "stream",
          "text": [
            "Test loss: 0.02861388772726059\n",
            "Test accuracy: 0.9908000230789185\n"
          ],
          "name": "stdout"
        }
      ]
    },
    {
      "cell_type": "markdown",
      "metadata": {
        "id": "6Md4Evc--F2J"
      },
      "source": [
        "## Model Predictions"
      ]
    },
    {
      "cell_type": "code",
      "metadata": {
        "id": "PVc11y_8oQi2"
      },
      "source": [
        "predictions = model.predict(x_test_fmt)"
      ],
      "execution_count": 9,
      "outputs": []
    },
    {
      "cell_type": "code",
      "metadata": {
        "id": "I22k7sKo9ft_",
        "outputId": "9df657b6-353f-45f3-de0c-4843b444a305",
        "colab": {
          "base_uri": "https://localhost:8080/",
          "height": 809
        }
      },
      "source": [
        "for i in range(3):\n",
        "  image = x_test[i]\n",
        "  label = y_test[i]\n",
        "  plt.title(\"data %d, Actual Label: %d, Predicted: %d\"%(i, label, np.argmax(predictions[i])))\n",
        "  plt.imshow(image, cmap='gray_r')\n",
        "  plt.show()"
      ],
      "execution_count": 10,
      "outputs": [
        {
          "output_type": "display_data",
          "data": {
            "image/png": "[encoded data removed]",
            "text/plain": [
              "<Figure size 432x288 with 1 Axes>"
            ]
          },
          "metadata": {
            "tags": [],
            "needs_background": "light"
          }
        },
        {
          "output_type": "display_data",
          "data": {
            "image/png": "[encoded data removed]",
            "text/plain": [
              "<Figure size 432x288 with 1 Axes>"
            ]
          },
          "metadata": {
            "tags": [],
            "needs_background": "light"
          }
        },
        {
          "output_type": "display_data",
          "data": {
            "image/png": "[encoded data removed]",
            "text/plain": [
              "<Figure size 432x288 with 1 Axes>"
            ]
          },
          "metadata": {
            "tags": [],
            "needs_background": "light"
          }
        }
      ]
    }
  ]
}