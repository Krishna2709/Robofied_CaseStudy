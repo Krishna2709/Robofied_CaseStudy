{
  "nbformat": 4,
  "nbformat_minor": 0,
  "metadata": {
    "colab": {
      "name": "Perceptron_with_Keras.ipynb",
      "provenance": []
    },
    "kernelspec": {
      "name": "python3",
      "display_name": "Python 3"
    }
  },
  "cells": [
    {
      "cell_type": "markdown",
      "metadata": {
        "id": "G9bXc-1qJMlg",
        "colab_type": "text"
      },
      "source": [
        "# Simple Perceptron implementation with Keras"
      ]
    },
    {
      "cell_type": "markdown",
      "metadata": {
        "id": "5V-azHzHJTYk",
        "colab_type": "text"
      },
      "source": [
        "## Steps:\n",
        " 1. Import required libraries\n",
        " 2. Create train and test datasets\n",
        " 3. Define a single layer perceptron model\n",
        " 4. Compile and train the model\n",
        " 5. Model Predictions"
      ]
    },
    {
      "cell_type": "code",
      "metadata": {
        "id": "tUhLELcyCIld",
        "colab_type": "code",
        "colab": {}
      },
      "source": [
        "# 1. Import libraries\n",
        "import numpy as np\n",
        "from keras.models import Sequential\n",
        "from keras.layers import Dense, Dropout"
      ],
      "execution_count": 1,
      "outputs": []
    },
    {
      "cell_type": "code",
      "metadata": {
        "id": "vi8yhF7PIlRY",
        "colab_type": "code",
        "colab": {}
      },
      "source": [
        "# 2. Creating train and test datasets \n",
        "# The data contains two features with values either 0 or 1.\n",
        "# The target variable contains the binary values 0 or 1.\n",
        "\n",
        "# train data - (1000 x 2)\n",
        "x_train = np.random.randint(2, size=(1000,2))\n",
        "y_train = np.array([[ 1 if x[0] != x[1] else 0] for x in x_train]) \n",
        "\n",
        "# test data - (100 x 2)\n",
        "x_test = np.random.randint(2, size=(100,2))\n",
        "y_test = np.array([[ 1 if x[0] != x[1] else 0] for x in x_test])"
      ],
      "execution_count": 2,
      "outputs": []
    },
    {
      "cell_type": "code",
      "metadata": {
        "id": "3lLykoxEIleg",
        "colab_type": "code",
        "colab": {
          "base_uri": "https://localhost:8080/",
          "height": 1000
        },
        "outputId": "dcbe892e-2ead-4917-ab2d-a2c47879cd27"
      },
      "source": [
        "# 3. Defining a single perceptron layer\n",
        "model = Sequential()\n",
        "model.add(Dense(2, input_dim=2, activation=\"sigmoid\"))\n",
        "model.add(Dense(1, activation=\"sigmoid\"))\n",
        "\n",
        "# 4. Compiling and training the model\n",
        "model.compile(loss='binary_crossentropy',\n",
        "          optimizer='rmsprop',\n",
        "          metrics=['binary_accuracy'])\n",
        "\n",
        "model.fit(x_train, y_train, batch_size=4,epochs=100, verbose=1)"
      ],
      "execution_count": 3,
      "outputs": [
        {
          "output_type": "stream",
          "text": [
            "Epoch 1/100\n",
            "250/250 [==============================] - 0s 878us/step - loss: 0.6965 - binary_accuracy: 0.4870\n",
            "Epoch 2/100\n",
            "250/250 [==============================] - 0s 937us/step - loss: 0.6956 - binary_accuracy: 0.4870\n",
            "Epoch 3/100\n",
            "250/250 [==============================] - 0s 888us/step - loss: 0.6948 - binary_accuracy: 0.4870\n",
            "Epoch 4/100\n",
            "250/250 [==============================] - 0s 915us/step - loss: 0.6940 - binary_accuracy: 0.4870\n",
            "Epoch 5/100\n",
            "250/250 [==============================] - 0s 939us/step - loss: 0.6932 - binary_accuracy: 0.4870\n",
            "Epoch 6/100\n",
            "250/250 [==============================] - 0s 871us/step - loss: 0.6924 - binary_accuracy: 0.4870\n",
            "Epoch 7/100\n",
            "250/250 [==============================] - 0s 900us/step - loss: 0.6914 - binary_accuracy: 0.4970\n",
            "Epoch 8/100\n",
            "250/250 [==============================] - 0s 903us/step - loss: 0.6903 - binary_accuracy: 0.6030\n",
            "Epoch 9/100\n",
            "250/250 [==============================] - 0s 858us/step - loss: 0.6891 - binary_accuracy: 0.7480\n",
            "Epoch 10/100\n",
            "250/250 [==============================] - 0s 986us/step - loss: 0.6876 - binary_accuracy: 0.7130\n",
            "Epoch 11/100\n",
            "250/250 [==============================] - 0s 880us/step - loss: 0.6860 - binary_accuracy: 0.6960\n",
            "Epoch 12/100\n",
            "250/250 [==============================] - 0s 856us/step - loss: 0.6841 - binary_accuracy: 0.7390\n",
            "Epoch 13/100\n",
            "250/250 [==============================] - 0s 959us/step - loss: 0.6820 - binary_accuracy: 0.7600\n",
            "Epoch 14/100\n",
            "250/250 [==============================] - 0s 852us/step - loss: 0.6795 - binary_accuracy: 0.7600\n",
            "Epoch 15/100\n",
            "250/250 [==============================] - 0s 860us/step - loss: 0.6768 - binary_accuracy: 0.7600\n",
            "Epoch 16/100\n",
            "250/250 [==============================] - 0s 856us/step - loss: 0.6740 - binary_accuracy: 0.7600\n",
            "Epoch 17/100\n",
            "250/250 [==============================] - 0s 936us/step - loss: 0.6706 - binary_accuracy: 0.7600\n",
            "Epoch 18/100\n",
            "250/250 [==============================] - 0s 826us/step - loss: 0.6672 - binary_accuracy: 0.7600\n",
            "Epoch 19/100\n",
            "250/250 [==============================] - 0s 875us/step - loss: 0.6633 - binary_accuracy: 0.7600\n",
            "Epoch 20/100\n",
            "250/250 [==============================] - 0s 857us/step - loss: 0.6590 - binary_accuracy: 0.7600\n",
            "Epoch 21/100\n",
            "250/250 [==============================] - 0s 878us/step - loss: 0.6543 - binary_accuracy: 0.7600\n",
            "Epoch 22/100\n",
            "250/250 [==============================] - 0s 1ms/step - loss: 0.6493 - binary_accuracy: 0.7600\n",
            "Epoch 23/100\n",
            "250/250 [==============================] - 0s 876us/step - loss: 0.6440 - binary_accuracy: 0.7600\n",
            "Epoch 24/100\n",
            "250/250 [==============================] - 0s 858us/step - loss: 0.6384 - binary_accuracy: 0.7600\n",
            "Epoch 25/100\n",
            "250/250 [==============================] - 0s 875us/step - loss: 0.6326 - binary_accuracy: 0.7600\n",
            "Epoch 26/100\n",
            "250/250 [==============================] - 0s 940us/step - loss: 0.6266 - binary_accuracy: 0.7600\n",
            "Epoch 27/100\n",
            "250/250 [==============================] - 0s 862us/step - loss: 0.6206 - binary_accuracy: 0.7600\n",
            "Epoch 28/100\n",
            "250/250 [==============================] - 0s 867us/step - loss: 0.6143 - binary_accuracy: 0.7600\n",
            "Epoch 29/100\n",
            "250/250 [==============================] - 0s 861us/step - loss: 0.6078 - binary_accuracy: 0.7600\n",
            "Epoch 30/100\n",
            "250/250 [==============================] - 0s 849us/step - loss: 0.6013 - binary_accuracy: 0.7600\n",
            "Epoch 31/100\n",
            "250/250 [==============================] - 0s 891us/step - loss: 0.5950 - binary_accuracy: 0.7600\n",
            "Epoch 32/100\n",
            "250/250 [==============================] - 0s 819us/step - loss: 0.5888 - binary_accuracy: 0.7600\n",
            "Epoch 33/100\n",
            "250/250 [==============================] - 0s 868us/step - loss: 0.5828 - binary_accuracy: 0.7600\n",
            "Epoch 34/100\n",
            "250/250 [==============================] - 0s 829us/step - loss: 0.5771 - binary_accuracy: 0.7600\n",
            "Epoch 35/100\n",
            "250/250 [==============================] - 0s 857us/step - loss: 0.5714 - binary_accuracy: 0.7600\n",
            "Epoch 36/100\n",
            "250/250 [==============================] - 0s 846us/step - loss: 0.5659 - binary_accuracy: 0.7600\n",
            "Epoch 37/100\n",
            "250/250 [==============================] - 0s 882us/step - loss: 0.5605 - binary_accuracy: 0.7600\n",
            "Epoch 38/100\n",
            "250/250 [==============================] - 0s 872us/step - loss: 0.5552 - binary_accuracy: 0.7600\n",
            "Epoch 39/100\n",
            "250/250 [==============================] - 0s 854us/step - loss: 0.5501 - binary_accuracy: 0.7600\n",
            "Epoch 40/100\n",
            "250/250 [==============================] - 0s 914us/step - loss: 0.5455 - binary_accuracy: 0.7600\n",
            "Epoch 41/100\n",
            "250/250 [==============================] - 0s 878us/step - loss: 0.5410 - binary_accuracy: 0.7600\n",
            "Epoch 42/100\n",
            "250/250 [==============================] - 0s 864us/step - loss: 0.5367 - binary_accuracy: 0.7600\n",
            "Epoch 43/100\n",
            "250/250 [==============================] - 0s 886us/step - loss: 0.5328 - binary_accuracy: 0.7600\n",
            "Epoch 44/100\n",
            "250/250 [==============================] - 0s 898us/step - loss: 0.5289 - binary_accuracy: 0.7600\n",
            "Epoch 45/100\n",
            "250/250 [==============================] - 0s 933us/step - loss: 0.5251 - binary_accuracy: 0.7600\n",
            "Epoch 46/100\n",
            "250/250 [==============================] - 0s 862us/step - loss: 0.5215 - binary_accuracy: 0.7600\n",
            "Epoch 47/100\n",
            "250/250 [==============================] - 0s 839us/step - loss: 0.5179 - binary_accuracy: 0.7600\n",
            "Epoch 48/100\n",
            "250/250 [==============================] - 0s 928us/step - loss: 0.5144 - binary_accuracy: 0.7600\n",
            "Epoch 49/100\n",
            "250/250 [==============================] - 0s 877us/step - loss: 0.5110 - binary_accuracy: 0.7600\n",
            "Epoch 50/100\n",
            "250/250 [==============================] - 0s 879us/step - loss: 0.5077 - binary_accuracy: 0.7600\n",
            "Epoch 51/100\n",
            "250/250 [==============================] - 0s 859us/step - loss: 0.5043 - binary_accuracy: 0.7600\n",
            "Epoch 52/100\n",
            "250/250 [==============================] - 0s 867us/step - loss: 0.5012 - binary_accuracy: 0.7600\n",
            "Epoch 53/100\n",
            "250/250 [==============================] - 0s 832us/step - loss: 0.4981 - binary_accuracy: 0.7600\n",
            "Epoch 54/100\n",
            "250/250 [==============================] - 0s 895us/step - loss: 0.4950 - binary_accuracy: 0.7600\n",
            "Epoch 55/100\n",
            "250/250 [==============================] - 0s 896us/step - loss: 0.4921 - binary_accuracy: 0.7600\n",
            "Epoch 56/100\n",
            "250/250 [==============================] - 0s 845us/step - loss: 0.4893 - binary_accuracy: 0.7600\n",
            "Epoch 57/100\n",
            "250/250 [==============================] - 0s 863us/step - loss: 0.4864 - binary_accuracy: 0.7600\n",
            "Epoch 58/100\n",
            "250/250 [==============================] - 0s 1ms/step - loss: 0.4835 - binary_accuracy: 0.7600\n",
            "Epoch 59/100\n",
            "250/250 [==============================] - 0s 858us/step - loss: 0.4805 - binary_accuracy: 0.7600\n",
            "Epoch 60/100\n",
            "250/250 [==============================] - 0s 865us/step - loss: 0.4778 - binary_accuracy: 0.7600\n",
            "Epoch 61/100\n",
            "250/250 [==============================] - 0s 901us/step - loss: 0.4748 - binary_accuracy: 0.7600\n",
            "Epoch 62/100\n",
            "250/250 [==============================] - 0s 929us/step - loss: 0.4718 - binary_accuracy: 0.7600\n",
            "Epoch 63/100\n",
            "250/250 [==============================] - 0s 882us/step - loss: 0.4688 - binary_accuracy: 0.7600\n",
            "Epoch 64/100\n",
            "250/250 [==============================] - 0s 835us/step - loss: 0.4658 - binary_accuracy: 0.7600\n",
            "Epoch 65/100\n",
            "250/250 [==============================] - 0s 833us/step - loss: 0.4628 - binary_accuracy: 0.7600\n",
            "Epoch 66/100\n",
            "250/250 [==============================] - 0s 830us/step - loss: 0.4597 - binary_accuracy: 0.7600\n",
            "Epoch 67/100\n",
            "250/250 [==============================] - 0s 894us/step - loss: 0.4565 - binary_accuracy: 0.7600\n",
            "Epoch 68/100\n",
            "250/250 [==============================] - 0s 854us/step - loss: 0.4533 - binary_accuracy: 0.7600\n",
            "Epoch 69/100\n",
            "250/250 [==============================] - 0s 874us/step - loss: 0.4501 - binary_accuracy: 0.7600\n",
            "Epoch 70/100\n",
            "250/250 [==============================] - 0s 858us/step - loss: 0.4469 - binary_accuracy: 0.7600\n",
            "Epoch 71/100\n",
            "250/250 [==============================] - 0s 875us/step - loss: 0.4435 - binary_accuracy: 0.7600\n",
            "Epoch 72/100\n",
            "250/250 [==============================] - 0s 928us/step - loss: 0.4402 - binary_accuracy: 0.7600\n",
            "Epoch 73/100\n",
            "250/250 [==============================] - 0s 875us/step - loss: 0.4368 - binary_accuracy: 0.7600\n",
            "Epoch 74/100\n",
            "250/250 [==============================] - 0s 874us/step - loss: 0.4330 - binary_accuracy: 0.7600\n",
            "Epoch 75/100\n",
            "250/250 [==============================] - 0s 871us/step - loss: 0.4289 - binary_accuracy: 0.7600\n",
            "Epoch 76/100\n",
            "250/250 [==============================] - 0s 918us/step - loss: 0.4252 - binary_accuracy: 0.7600\n",
            "Epoch 77/100\n",
            "250/250 [==============================] - 0s 917us/step - loss: 0.4212 - binary_accuracy: 0.7600\n",
            "Epoch 78/100\n",
            "250/250 [==============================] - 0s 922us/step - loss: 0.4172 - binary_accuracy: 0.7600\n",
            "Epoch 79/100\n",
            "250/250 [==============================] - 0s 884us/step - loss: 0.4130 - binary_accuracy: 0.7600\n",
            "Epoch 80/100\n",
            "250/250 [==============================] - 0s 942us/step - loss: 0.4087 - binary_accuracy: 0.7600\n",
            "Epoch 81/100\n",
            "250/250 [==============================] - 0s 899us/step - loss: 0.4041 - binary_accuracy: 0.7600\n",
            "Epoch 82/100\n",
            "250/250 [==============================] - 0s 867us/step - loss: 0.3996 - binary_accuracy: 0.7600\n",
            "Epoch 83/100\n",
            "250/250 [==============================] - 0s 867us/step - loss: 0.3947 - binary_accuracy: 0.7600\n",
            "Epoch 84/100\n",
            "250/250 [==============================] - 0s 919us/step - loss: 0.3897 - binary_accuracy: 0.7600\n",
            "Epoch 85/100\n",
            "250/250 [==============================] - 0s 887us/step - loss: 0.3843 - binary_accuracy: 0.7660\n",
            "Epoch 86/100\n",
            "250/250 [==============================] - 0s 849us/step - loss: 0.3788 - binary_accuracy: 0.8540\n",
            "Epoch 87/100\n",
            "250/250 [==============================] - 0s 862us/step - loss: 0.3733 - binary_accuracy: 0.8030\n",
            "Epoch 88/100\n",
            "250/250 [==============================] - 0s 850us/step - loss: 0.3677 - binary_accuracy: 1.0000\n",
            "Epoch 89/100\n",
            "250/250 [==============================] - 0s 951us/step - loss: 0.3622 - binary_accuracy: 0.9930\n",
            "Epoch 90/100\n",
            "250/250 [==============================] - 0s 893us/step - loss: 0.3564 - binary_accuracy: 1.0000\n",
            "Epoch 91/100\n",
            "250/250 [==============================] - 0s 863us/step - loss: 0.3501 - binary_accuracy: 1.0000\n",
            "Epoch 92/100\n",
            "250/250 [==============================] - 0s 851us/step - loss: 0.3437 - binary_accuracy: 1.0000\n",
            "Epoch 93/100\n",
            "250/250 [==============================] - 0s 884us/step - loss: 0.3368 - binary_accuracy: 1.0000\n",
            "Epoch 94/100\n",
            "250/250 [==============================] - 0s 884us/step - loss: 0.3306 - binary_accuracy: 1.0000\n",
            "Epoch 95/100\n",
            "250/250 [==============================] - 0s 846us/step - loss: 0.3241 - binary_accuracy: 1.0000\n",
            "Epoch 96/100\n",
            "250/250 [==============================] - 0s 862us/step - loss: 0.3175 - binary_accuracy: 1.0000\n",
            "Epoch 97/100\n",
            "250/250 [==============================] - 0s 859us/step - loss: 0.3104 - binary_accuracy: 1.0000\n",
            "Epoch 98/100\n",
            "250/250 [==============================] - 0s 865us/step - loss: 0.3033 - binary_accuracy: 1.0000\n",
            "Epoch 99/100\n",
            "250/250 [==============================] - 0s 967us/step - loss: 0.2962 - binary_accuracy: 1.0000\n",
            "Epoch 100/100\n",
            "250/250 [==============================] - 0s 861us/step - loss: 0.2889 - binary_accuracy: 1.0000\n"
          ],
          "name": "stdout"
        },
        {
          "output_type": "execute_result",
          "data": {
            "text/plain": [
              "<tensorflow.python.keras.callbacks.History at 0x7f6616099f98>"
            ]
          },
          "metadata": {
            "tags": []
          },
          "execution_count": 3
        }
      ]
    },
    {
      "cell_type": "code",
      "metadata": {
        "id": "uXQWfPyEJFOy",
        "colab_type": "code",
        "colab": {
          "base_uri": "https://localhost:8080/",
          "height": 85
        },
        "outputId": "c2280cf8-4d41-410b-aadd-ca1b4aace638"
      },
      "source": [
        "# 5. Model Predictions\n",
        "predictions = model.predict(np.array([[0,0],[0,1],[1,0],[1,1]]))\n",
        "\n",
        "# Since a perceptron outputs a binary value \n",
        "# if predicted value is less than 0.5 convert it into 0 else 1\n",
        "predictions = np.where(predictions>0.5, 1, 0) \n",
        "\n",
        "predictions"
      ],
      "execution_count": 4,
      "outputs": [
        {
          "output_type": "execute_result",
          "data": {
            "text/plain": [
              "array([[0],\n",
              "       [1],\n",
              "       [1],\n",
              "       [0]])"
            ]
          },
          "metadata": {
            "tags": []
          },
          "execution_count": 4
        }
      ]
    },
    {
      "cell_type": "markdown",
      "metadata": {
        "id": "B735iS86Mg_o",
        "colab_type": "text"
      },
      "source": [
        "##### We can observe that the model predicted 0 for [0, 0] and [1, 1] inputs and 1 for [0, 1] and [1, 0] inputs."
      ]
    },
    {
      "cell_type": "code",
      "metadata": {
        "id": "XweguAr9Mvxa",
        "colab_type": "code",
        "colab": {}
      },
      "source": [
        ""
      ],
      "execution_count": 4,
      "outputs": []
    }
  ]
}