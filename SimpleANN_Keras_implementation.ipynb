{
  "nbformat": 4,
  "nbformat_minor": 0,
  "metadata": {
    "colab": {
      "name": "SimpleANN_Keras_implementation.ipynb",
      "provenance": []
    },
    "kernelspec": {
      "name": "python3",
      "display_name": "Python 3"
    }
  },
  "cells": [
    {
      "cell_type": "markdown",
      "metadata": {
        "id": "FsQHi6J7bxUq",
        "colab_type": "text"
      },
      "source": [
        "# Simple Artificial Neural Network implementation with Keras\n",
        "\n"
      ]
    },
    {
      "cell_type": "markdown",
      "metadata": {
        "id": "htcLqPZddUYC",
        "colab_type": "text"
      },
      "source": [
        "### THE MNIST database of handwritten digits <br>\n",
        "##### The MNIST database (Modified National Institute of Standards and Technology database) is a large database of handwritten digits that is commonly used for training various image processing systems. The database is also widely used for training and testing in the field of machine learning.[3][4] It was created by \"re-mixing\" the samples from NIST's original datasets.\n",
        "Source: http://yann.lecun.com/exdb/mnist/"
      ]
    },
    {
      "cell_type": "markdown",
      "metadata": {
        "id": "75SOJ31_d3hP",
        "colab_type": "text"
      },
      "source": [
        "### 1. Import the required libraries"
      ]
    },
    {
      "cell_type": "code",
      "metadata": {
        "id": "Qpu7LUl5buUu",
        "colab_type": "code",
        "colab": {}
      },
      "source": [
        "# Importing Libraries\n",
        "import numpy as np\n",
        "import matplotlib.pyplot as plt\n",
        "%matplotlib inline\n",
        "\n",
        "from keras.datasets import mnist # mnist dataset from keras\n",
        "from keras.models import Sequential # to define a model\n",
        "from keras.layers.core import Dense, Dropout, Activation \n",
        "from keras.utils import np_utils # to preprocess the data"
      ],
      "execution_count": 1,
      "outputs": []
    },
    {
      "cell_type": "markdown",
      "metadata": {
        "id": "oxXH7Vrgd8Qi",
        "colab_type": "text"
      },
      "source": [
        "## 2. Load the MNIST dataset"
      ]
    },
    {
      "cell_type": "code",
      "metadata": {
        "id": "gEV9J32Cb3D9",
        "colab_type": "code",
        "colab": {
          "base_uri": "https://localhost:8080/",
          "height": 877
        },
        "outputId": "33948416-72e9-4217-e3c2-f161ff084ad4"
      },
      "source": [
        "# Model / data parameters\n",
        "num_classes = 10\n",
        "input_shape = (28, 28, 1)\n",
        "\n",
        "# the data, split between train and test sets\n",
        "(x_train, y_train), (x_test, y_test) = mnist.load_data()\n",
        "\n",
        "# Shape of the data\n",
        "print('X_train shape: ', x_train.shape)\n",
        "print('Y_train shape: ', y_train.shape)\n",
        "print('X_test shape: ', x_test.shape)\n",
        "print('Y_test shape: ', y_test.shape)\n",
        "\n",
        "# visualizin the MNIST data\n",
        "# plot first few images\n",
        "for i in range(3):\n",
        "    image = x_train[i]\n",
        "    label = y_train[i]\n",
        "    plt.title(\"Training data %d, Label: %d\"%(i, label))\n",
        "    plt.imshow(image, cmap='gray_r')\n",
        "    plt.show()\n",
        "    \n",
        "# show the figure\n",
        "plt.show() "
      ],
      "execution_count": 2,
      "outputs": [
        {
          "output_type": "stream",
          "text": [
            "X_train shape:  (60000, 28, 28)\n",
            "Y_train shape:  (60000,)\n",
            "X_test shape:  (10000, 28, 28)\n",
            "Y_test shape:  (10000,)\n"
          ],
          "name": "stdout"
        },
        {
          "output_type": "display_data",
          "data": {
            "image/png": "[encoded data removed]",
            "text/plain": [
              "<Figure size 432x288 with 1 Axes>"
            ]
          },
          "metadata": {
            "tags": [],
            "needs_background": "light"
          }
        },
        {
          "output_type": "display_data",
          "data": {
            "image/png": "[encoded data removed]",
            "text/plain": [
              "<Figure size 432x288 with 1 Axes>"
            ]
          },
          "metadata": {
            "tags": [],
            "needs_background": "light"
          }
        },
        {
          "output_type": "display_data",
          "data": {
            "image/png": "[encoded data removed]",
            "text/plain": [
              "<Figure size 432x288 with 1 Axes>"
            ]
          },
          "metadata": {
            "tags": [],
            "needs_background": "light"
          }
        }
      ]
    },
    {
      "cell_type": "markdown",
      "metadata": {
        "id": "ANh9M6h7eC2d",
        "colab_type": "text"
      },
      "source": [
        "## 3. Data Preprocessing - reshaping and rescaling."
      ]
    },
    {
      "cell_type": "code",
      "metadata": {
        "id": "H02bfAZ1b682",
        "colab_type": "code",
        "colab": {
          "base_uri": "https://localhost:8080/",
          "height": 51
        },
        "outputId": "0ddc9db3-599f-43e1-81e8-64ba343fb47f"
      },
      "source": [
        "# Flattening the data\n",
        "# (28, 28) - 2D; (784) - 1D\n",
        "x_train = x_train.reshape(60000, 784)\n",
        "x_test = x_test.reshape(10000, 784)\n",
        "\n",
        "x_train = x_train.astype('float32')\n",
        "x_test = x_test.astype('float32')\n",
        "\n",
        "# Rescaling\n",
        "x_train /= 255\n",
        "x_test /= 255\n",
        "\n",
        "print(\"Training matrix shape: \", x_train.shape)\n",
        "print(\"Testing matrix shape: \", x_test.shape)"
      ],
      "execution_count": 3,
      "outputs": [
        {
          "output_type": "stream",
          "text": [
            "Training matrix shape:  (60000, 784)\n",
            "Testing matrix shape:  (10000, 784)\n"
          ],
          "name": "stdout"
        }
      ]
    },
    {
      "cell_type": "markdown",
      "metadata": {
        "id": "LHJnnl0aeJWZ",
        "colab_type": "text"
      },
      "source": [
        "#### Converting the target values into categorical values"
      ]
    },
    {
      "cell_type": "code",
      "metadata": {
        "id": "qQUYyuqAcD5E",
        "colab_type": "code",
        "colab": {
          "base_uri": "https://localhost:8080/",
          "height": 51
        },
        "outputId": "8a605c5e-56b3-4897-fd02-e5c36953eb13"
      },
      "source": [
        "# One Hot Encoding of labels\n",
        "print(\"Shape of y_train before encoding: \", y_train.shape)\n",
        "y_train = np_utils.to_categorical(y_train, 10)\n",
        "y_test = np_utils.to_categorical(y_test, 10)\n",
        "print(\"Shape of y_train after One Hot encoding: \", y_train.shape)"
      ],
      "execution_count": 4,
      "outputs": [
        {
          "output_type": "stream",
          "text": [
            "Shape of y_train before encoding:  (60000,)\n",
            "Shape of y_train after One Hot encoding:  (60000, 10)\n"
          ],
          "name": "stdout"
        }
      ]
    },
    {
      "cell_type": "markdown",
      "metadata": {
        "id": "GBen1BHaeTnz",
        "colab_type": "text"
      },
      "source": [
        "## 4. Build and train the model"
      ]
    },
    {
      "cell_type": "code",
      "metadata": {
        "id": "GmAz_3QEcLPw",
        "colab_type": "code",
        "colab": {}
      },
      "source": [
        "# Building the model\n",
        "def build_model():\n",
        "    model = Sequential()\n",
        "    model.add(Dense(64, input_shape=(784,)))\n",
        "    model.add(Activation('relu'))\n",
        "    model.add(Dropout(0.2))\n",
        "    model.add(Dense(128))\n",
        "    model.add(Activation('relu'))\n",
        "    model.add(Dropout(0.2))\n",
        "    model.add(Dense(10))\n",
        "    model.add(Activation('softmax'))\n",
        "    return model\n",
        "\n",
        "model = build_model()"
      ],
      "execution_count": 5,
      "outputs": []
    },
    {
      "cell_type": "code",
      "metadata": {
        "id": "M-UxkGqMgDee",
        "colab_type": "code",
        "colab": {
          "base_uri": "https://localhost:8080/",
          "height": 425
        },
        "outputId": "da32d328-3639-4f04-9574-a80c56699b98"
      },
      "source": [
        "# Model architecture\n",
        "model.summary()"
      ],
      "execution_count": 6,
      "outputs": [
        {
          "output_type": "stream",
          "text": [
            "Model: \"sequential\"\n",
            "_________________________________________________________________\n",
            "Layer (type)                 Output Shape              Param #   \n",
            "=================================================================\n",
            "dense (Dense)                (None, 64)                50240     \n",
            "_________________________________________________________________\n",
            "activation (Activation)      (None, 64)                0         \n",
            "_________________________________________________________________\n",
            "dropout (Dropout)            (None, 64)                0         \n",
            "_________________________________________________________________\n",
            "dense_1 (Dense)              (None, 128)               8320      \n",
            "_________________________________________________________________\n",
            "activation_1 (Activation)    (None, 128)               0         \n",
            "_________________________________________________________________\n",
            "dropout_1 (Dropout)          (None, 128)               0         \n",
            "_________________________________________________________________\n",
            "dense_2 (Dense)              (None, 10)                1290      \n",
            "_________________________________________________________________\n",
            "activation_2 (Activation)    (None, 10)                0         \n",
            "=================================================================\n",
            "Total params: 59,850\n",
            "Trainable params: 59,850\n",
            "Non-trainable params: 0\n",
            "_________________________________________________________________\n"
          ],
          "name": "stdout"
        }
      ]
    },
    {
      "cell_type": "code",
      "metadata": {
        "id": "8dpqrWR4cN8d",
        "colab_type": "code",
        "colab": {
          "base_uri": "https://localhost:8080/",
          "height": 187
        },
        "outputId": "ad29f872-f350-458f-f3f4-d8309df7916f"
      },
      "source": [
        "# Compiling the model\n",
        "model.compile(optimizer='rmsprop', \n",
        "              loss='categorical_crossentropy',\n",
        "             metrics=['accuracy'])\n",
        "\n",
        "# Training the model\n",
        "history = model.fit(x_train, y_train,\n",
        "         batch_size=128,\n",
        "         epochs=5,\n",
        "         validation_data=(x_test, y_test),\n",
        "         verbose=1)"
      ],
      "execution_count": 7,
      "outputs": [
        {
          "output_type": "stream",
          "text": [
            "Epoch 1/5\n",
            "469/469 [==============================] - 2s 4ms/step - loss: 0.4739 - accuracy: 0.8564 - val_loss: 0.1999 - val_accuracy: 0.9397\n",
            "Epoch 2/5\n",
            "469/469 [==============================] - 2s 3ms/step - loss: 0.2340 - accuracy: 0.9299 - val_loss: 0.1446 - val_accuracy: 0.9569\n",
            "Epoch 3/5\n",
            "469/469 [==============================] - 2s 3ms/step - loss: 0.1872 - accuracy: 0.9444 - val_loss: 0.1239 - val_accuracy: 0.9634\n",
            "Epoch 4/5\n",
            "469/469 [==============================] - 1s 3ms/step - loss: 0.1572 - accuracy: 0.9521 - val_loss: 0.1084 - val_accuracy: 0.9679\n",
            "Epoch 5/5\n",
            "469/469 [==============================] - 2s 3ms/step - loss: 0.1401 - accuracy: 0.9579 - val_loss: 0.1057 - val_accuracy: 0.9677\n"
          ],
          "name": "stdout"
        }
      ]
    },
    {
      "cell_type": "markdown",
      "metadata": {
        "id": "nSgXdKlHehJb",
        "colab_type": "text"
      },
      "source": [
        "## 5. Model metrics"
      ]
    },
    {
      "cell_type": "code",
      "metadata": {
        "id": "tcNXVvcEeoQq",
        "colab_type": "code",
        "colab": {
          "base_uri": "https://localhost:8080/",
          "height": 499
        },
        "outputId": "397b9893-8082-4ef3-d19e-c63bd87502d5"
      },
      "source": [
        "acc = history.history['accuracy']\n",
        "val_acc = history.history['val_accuracy']\n",
        "\n",
        "loss = history.history['loss']\n",
        "val_loss = history.history['val_loss']\n",
        "\n",
        "epochs_range = range(0, 5)\n",
        "\n",
        "plt.figure(figsize=(8, 8))\n",
        "plt.subplot(1, 2, 1)\n",
        "plt.plot(epochs_range, acc, label='Training Accuracy')\n",
        "plt.plot(epochs_range, val_acc, label='Test Accuracy')\n",
        "plt.legend(loc='lower right')\n",
        "plt.title('Training and Test Accuracy')\n",
        "\n",
        "plt.subplot(1, 2, 2)\n",
        "plt.plot(epochs_range, loss, label='Training Loss')\n",
        "plt.plot(epochs_range, val_loss, label='Test Loss')\n",
        "plt.legend(loc='upper right')\n",
        "plt.title('Training and Test Loss')\n",
        "plt.show()"
      ],
      "execution_count": 8,
      "outputs": [
        {
          "output_type": "display_data",
          "data": {
            "image/png": "[encoded data removed]",
            "text/plain": [
              "<Figure size 576x576 with 2 Axes>"
            ]
          },
          "metadata": {
            "tags": [],
            "needs_background": "light"
          }
        }
      ]
    },
    {
      "cell_type": "code",
      "metadata": {
        "id": "_0XhIDoBcS94",
        "colab_type": "code",
        "colab": {
          "base_uri": "https://localhost:8080/",
          "height": 51
        },
        "outputId": "14716a1e-cbcc-445f-e0c0-e7f48fe97a0f"
      },
      "source": [
        "# Comparing the predicted and actual results\n",
        "score = model.evaluate(x_test, y_test, batch_size=32, verbose=1, sample_weight=None)\n",
        "print(\"Test Accuracy %:\", score[1]*100)"
      ],
      "execution_count": 10,
      "outputs": [
        {
          "output_type": "stream",
          "text": [
            "313/313 [==============================] - 0s 851us/step - loss: 0.1057 - accuracy: 0.9677\n",
            "Test Accuracy %: 96.77000045776367\n"
          ],
          "name": "stdout"
        }
      ]
    },
    {
      "cell_type": "code",
      "metadata": {
        "id": "yJGWt2ZFgU4-",
        "colab_type": "code",
        "colab": {}
      },
      "source": [
        ""
      ],
      "execution_count": null,
      "outputs": []
    }
  ]
}